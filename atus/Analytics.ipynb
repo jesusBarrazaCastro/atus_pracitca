{
 "cells": [
  {
   "cell_type": "markdown",
   "metadata": {},
   "source": [
    "1.       Cargue en un Dataframe los datos de los accidentes de los últimos 3 años"
   ]
  },
  {
   "cell_type": "code",
   "execution_count": 3,
   "metadata": {},
   "outputs": [
    {
     "data": {
      "text/html": [
       "<div>\n",
       "<style scoped>\n",
       "    .dataframe tbody tr th:only-of-type {\n",
       "        vertical-align: middle;\n",
       "    }\n",
       "\n",
       "    .dataframe tbody tr th {\n",
       "        vertical-align: top;\n",
       "    }\n",
       "\n",
       "    .dataframe thead th {\n",
       "        text-align: right;\n",
       "    }\n",
       "</style>\n",
       "<table border=\"1\" class=\"dataframe\">\n",
       "  <thead>\n",
       "    <tr style=\"text-align: right;\">\n",
       "      <th></th>\n",
       "      <th>COBERTURA</th>\n",
       "      <th>ID_ENTIDAD</th>\n",
       "      <th>ID_MUNICIPIO</th>\n",
       "      <th>ANIO</th>\n",
       "      <th>MES</th>\n",
       "      <th>ID_HORA</th>\n",
       "      <th>ID_MINUTO</th>\n",
       "      <th>ID_DIA</th>\n",
       "      <th>DIASEMANA</th>\n",
       "      <th>URBANA</th>\n",
       "      <th>...</th>\n",
       "      <th>PEATMUERTO</th>\n",
       "      <th>PEATHERIDO</th>\n",
       "      <th>CICLMUERTO</th>\n",
       "      <th>CICLHERIDO</th>\n",
       "      <th>OTROMUERTO</th>\n",
       "      <th>OTROHERIDO</th>\n",
       "      <th>NEMUERTO</th>\n",
       "      <th>NEHERIDO</th>\n",
       "      <th>CLASACC</th>\n",
       "      <th>ESTATUS</th>\n",
       "    </tr>\n",
       "  </thead>\n",
       "  <tbody>\n",
       "    <tr>\n",
       "      <th>0</th>\n",
       "      <td>Municipal</td>\n",
       "      <td>1</td>\n",
       "      <td>1</td>\n",
       "      <td>2020</td>\n",
       "      <td>1</td>\n",
       "      <td>0</td>\n",
       "      <td>0</td>\n",
       "      <td>1</td>\n",
       "      <td>Miercoles</td>\n",
       "      <td>Accidente en intersección</td>\n",
       "      <td>...</td>\n",
       "      <td>0</td>\n",
       "      <td>0</td>\n",
       "      <td>0</td>\n",
       "      <td>0</td>\n",
       "      <td>0</td>\n",
       "      <td>0</td>\n",
       "      <td>0</td>\n",
       "      <td>0</td>\n",
       "      <td>Sólo daños</td>\n",
       "      <td>Cifras Definitivas</td>\n",
       "    </tr>\n",
       "    <tr>\n",
       "      <th>1</th>\n",
       "      <td>Municipal</td>\n",
       "      <td>1</td>\n",
       "      <td>1</td>\n",
       "      <td>2020</td>\n",
       "      <td>1</td>\n",
       "      <td>0</td>\n",
       "      <td>0</td>\n",
       "      <td>1</td>\n",
       "      <td>Miercoles</td>\n",
       "      <td>Accidente en intersección</td>\n",
       "      <td>...</td>\n",
       "      <td>0</td>\n",
       "      <td>0</td>\n",
       "      <td>0</td>\n",
       "      <td>0</td>\n",
       "      <td>0</td>\n",
       "      <td>0</td>\n",
       "      <td>0</td>\n",
       "      <td>0</td>\n",
       "      <td>Sólo daños</td>\n",
       "      <td>Cifras Definitivas</td>\n",
       "    </tr>\n",
       "    <tr>\n",
       "      <th>2</th>\n",
       "      <td>Municipal</td>\n",
       "      <td>1</td>\n",
       "      <td>1</td>\n",
       "      <td>2020</td>\n",
       "      <td>1</td>\n",
       "      <td>0</td>\n",
       "      <td>10</td>\n",
       "      <td>1</td>\n",
       "      <td>Miercoles</td>\n",
       "      <td>Accidente en intersección</td>\n",
       "      <td>...</td>\n",
       "      <td>0</td>\n",
       "      <td>0</td>\n",
       "      <td>0</td>\n",
       "      <td>0</td>\n",
       "      <td>0</td>\n",
       "      <td>0</td>\n",
       "      <td>0</td>\n",
       "      <td>0</td>\n",
       "      <td>Sólo daños</td>\n",
       "      <td>Cifras Definitivas</td>\n",
       "    </tr>\n",
       "    <tr>\n",
       "      <th>3</th>\n",
       "      <td>Municipal</td>\n",
       "      <td>1</td>\n",
       "      <td>1</td>\n",
       "      <td>2020</td>\n",
       "      <td>1</td>\n",
       "      <td>2</td>\n",
       "      <td>0</td>\n",
       "      <td>1</td>\n",
       "      <td>Miercoles</td>\n",
       "      <td>Accidente en intersección</td>\n",
       "      <td>...</td>\n",
       "      <td>0</td>\n",
       "      <td>0</td>\n",
       "      <td>0</td>\n",
       "      <td>0</td>\n",
       "      <td>0</td>\n",
       "      <td>0</td>\n",
       "      <td>0</td>\n",
       "      <td>0</td>\n",
       "      <td>Sólo daños</td>\n",
       "      <td>Cifras Definitivas</td>\n",
       "    </tr>\n",
       "    <tr>\n",
       "      <th>4</th>\n",
       "      <td>Municipal</td>\n",
       "      <td>1</td>\n",
       "      <td>1</td>\n",
       "      <td>2020</td>\n",
       "      <td>1</td>\n",
       "      <td>2</td>\n",
       "      <td>10</td>\n",
       "      <td>1</td>\n",
       "      <td>Miercoles</td>\n",
       "      <td>Accidente en intersección</td>\n",
       "      <td>...</td>\n",
       "      <td>0</td>\n",
       "      <td>0</td>\n",
       "      <td>0</td>\n",
       "      <td>0</td>\n",
       "      <td>0</td>\n",
       "      <td>0</td>\n",
       "      <td>0</td>\n",
       "      <td>0</td>\n",
       "      <td>Sólo daños</td>\n",
       "      <td>Cifras Definitivas</td>\n",
       "    </tr>\n",
       "  </tbody>\n",
       "</table>\n",
       "<p>5 rows × 45 columns</p>\n",
       "</div>"
      ],
      "text/plain": [
       "   COBERTURA  ID_ENTIDAD  ID_MUNICIPIO  ANIO  MES  ID_HORA  ID_MINUTO  ID_DIA  \\\n",
       "0  Municipal           1             1  2020    1        0          0       1   \n",
       "1  Municipal           1             1  2020    1        0          0       1   \n",
       "2  Municipal           1             1  2020    1        0         10       1   \n",
       "3  Municipal           1             1  2020    1        2          0       1   \n",
       "4  Municipal           1             1  2020    1        2         10       1   \n",
       "\n",
       "   DIASEMANA                     URBANA  ... PEATMUERTO PEATHERIDO  \\\n",
       "0  Miercoles  Accidente en intersección  ...          0          0   \n",
       "1  Miercoles  Accidente en intersección  ...          0          0   \n",
       "2  Miercoles  Accidente en intersección  ...          0          0   \n",
       "3  Miercoles  Accidente en intersección  ...          0          0   \n",
       "4  Miercoles  Accidente en intersección  ...          0          0   \n",
       "\n",
       "   CICLMUERTO  CICLHERIDO  OTROMUERTO  OTROHERIDO  NEMUERTO  NEHERIDO  \\\n",
       "0           0           0           0           0         0         0   \n",
       "1           0           0           0           0         0         0   \n",
       "2           0           0           0           0         0         0   \n",
       "3           0           0           0           0         0         0   \n",
       "4           0           0           0           0         0         0   \n",
       "\n",
       "      CLASACC             ESTATUS  \n",
       "0  Sólo daños  Cifras Definitivas  \n",
       "1  Sólo daños  Cifras Definitivas  \n",
       "2  Sólo daños  Cifras Definitivas  \n",
       "3  Sólo daños  Cifras Definitivas  \n",
       "4  Sólo daños  Cifras Definitivas  \n",
       "\n",
       "[5 rows x 45 columns]"
      ]
     },
     "execution_count": 3,
     "metadata": {},
     "output_type": "execute_result"
    }
   ],
   "source": [
    "import pandas as pd\n",
    "\n",
    "d20 = pd.read_csv(\"../input/atus_anual_2020.csv\", header = 0, index_col=False)\n",
    "d21 = pd.read_csv(\"../input/atus_anual_2021.csv\", header = 0, index_col=False)   \n",
    "d22 = pd.read_csv(\"../input/atus_anual_2022.csv\", header = 0, index_col=False)\n",
    "\n",
    "\n",
    "#lista de datasets para concatenar en un solo frame\n",
    "frames = [d20, d21, d22]\n",
    "\n",
    "ds = pd.concat(frames)\n",
    "\n",
    "ds.head()"
   ]
  },
  {
   "cell_type": "markdown",
   "metadata": {},
   "source": [
    "2.       Agregue una columna tipo date que englobe las columnas correspondientes a Año, Mes, Dia, Hora y Minuto."
   ]
  },
  {
   "cell_type": "code",
   "execution_count": 4,
   "metadata": {},
   "outputs": [],
   "source": [
    "\n",
    "# Ajustes a la columna de hora\n",
    "ds['ID_HORA'] = ds['ID_HORA'].apply(lambda x: x if x <= 23 else 0)\n",
    "\n",
    "# Ajustes a la columna de minuto\n",
    "ds['ID_MINUTO'] = ds['ID_MINUTO'].apply(lambda x: x if x < 60 else 0)\n",
    "\n",
    "# Ajustes a la columna de mes\n",
    "ds['MES'] = ds['MES'].apply(lambda x: x if isinstance(x, int) and 1 <= x <= 12 else 1)\n",
    "\n",
    "# Ajustes a la columna de dia\n",
    "ds['ID_DIA'] = ds['ID_DIA'].apply(lambda x: x if isinstance(x, int) and 1 <= x <= 31 else 1)\n",
    "\n",
    "# creacion de la columna datetime\n",
    "ds['registro_fecha'] = pd.to_datetime(ds['ANIO'].astype(str) + '-' +\n",
    "                                      ds['MES'].astype(str) + '-' + \n",
    "                                      ds['ID_DIA'].astype(str) + ' ' + \n",
    "                                      ds['ID_HORA'].astype(str) + ':' + \n",
    "                                      ds['ID_MINUTO'].astype(str), errors='coerce')\n",
    "\n"
   ]
  },
  {
   "cell_type": "code",
   "execution_count": null,
   "metadata": {},
   "outputs": [
    {
     "name": "stdout",
     "output_type": "stream",
     "text": [
      "        ANIO  MES  ID_DIA  ID_HORA  ID_MINUTO      registro_fecha\n",
      "0       2020    1       1        0          0 2020-01-01 00:00:00\n",
      "1       2020    1       1        0          0 2020-01-01 00:00:00\n",
      "2       2020    1       1        0         10 2020-01-01 00:10:00\n",
      "3       2020    1       1        2          0 2020-01-01 02:00:00\n",
      "4       2020    1       1        2         10 2020-01-01 02:10:00\n",
      "...      ...  ...     ...      ...        ...                 ...\n",
      "392705  2022   12      30        7         45 2022-12-30 07:45:00\n",
      "392706  2022   12      30        8          0 2022-12-30 08:00:00\n",
      "392707  2022   12      30       17         20 2022-12-30 17:20:00\n",
      "392708  2022   12      31       14         45 2022-12-31 14:45:00\n",
      "392709  2022   12      31       22         15 2022-12-31 22:15:00\n",
      "\n",
      "[1067071 rows x 6 columns]\n"
     ]
    }
   ],
   "source": [
    "print(ds[['ANIO', 'MES', 'ID_DIA', 'ID_HORA', 'ID_MINUTO', 'registro_fecha']])\n"
   ]
  },
  {
   "cell_type": "markdown",
   "metadata": {},
   "source": [
    "3.       Agregue una columna para Área cuyos valores serán Urbana o Suburbana dependiendo del área donde ocurrió el accidente."
   ]
  },
  {
   "cell_type": "code",
   "execution_count": 6,
   "metadata": {},
   "outputs": [],
   "source": [
    "ds['area'] = ds['URBANA'].apply(lambda x: 'Suburana' if x == 'Sin accidente en esta zona' else 'Urbana')"
   ]
  },
  {
   "cell_type": "code",
   "execution_count": null,
   "metadata": {},
   "outputs": [
    {
     "name": "stdout",
     "output_type": "stream",
     "text": [
      "                           URBANA                   SUBURBANA    area\n",
      "0       Accidente en intersección  Sin accidente en esta zona  Urbana\n",
      "1       Accidente en intersección  Sin accidente en esta zona  Urbana\n",
      "2       Accidente en intersección  Sin accidente en esta zona  Urbana\n",
      "3       Accidente en intersección  Sin accidente en esta zona  Urbana\n",
      "4       Accidente en intersección  Sin accidente en esta zona  Urbana\n",
      "...                           ...                         ...     ...\n",
      "392705  Accidente en intersección  Sin accidente en esta zona  Urbana\n",
      "392706  Accidente en intersección  Sin accidente en esta zona  Urbana\n",
      "392707  Accidente en intersección  Sin accidente en esta zona  Urbana\n",
      "392708  Accidente en intersección  Sin accidente en esta zona  Urbana\n",
      "392709  Accidente en intersección  Sin accidente en esta zona  Urbana\n",
      "\n",
      "[1067071 rows x 3 columns]\n"
     ]
    }
   ],
   "source": [
    "print(ds[['URBANA', 'SUBURBANA', 'area']])"
   ]
  },
  {
   "cell_type": "markdown",
   "metadata": {},
   "source": [
    "4.       Agregue una columna Zona cuyos valores serán la zona donde ocurrió el accidente"
   ]
  },
  {
   "cell_type": "code",
   "execution_count": 8,
   "metadata": {},
   "outputs": [],
   "source": [
    "ds['zona'] = ds.apply(lambda x: x['SUBURBANA'] if x['URBANA'] == 'Sin accidente en esta zona' else x['URBANA'], axis=1)"
   ]
  },
  {
   "cell_type": "code",
   "execution_count": null,
   "metadata": {},
   "outputs": [
    {
     "name": "stdout",
     "output_type": "stream",
     "text": [
      "          area                       zona\n",
      "0       Urbana  Accidente en intersección\n",
      "1       Urbana  Accidente en intersección\n",
      "2       Urbana  Accidente en intersección\n",
      "3       Urbana  Accidente en intersección\n",
      "4       Urbana  Accidente en intersección\n",
      "...        ...                        ...\n",
      "392705  Urbana  Accidente en intersección\n",
      "392706  Urbana  Accidente en intersección\n",
      "392707  Urbana  Accidente en intersección\n",
      "392708  Urbana  Accidente en intersección\n",
      "392709  Urbana  Accidente en intersección\n",
      "\n",
      "[1067071 rows x 2 columns]\n"
     ]
    }
   ],
   "source": [
    "print(ds[['area', 'zona']])"
   ]
  },
  {
   "cell_type": "markdown",
   "metadata": {},
   "source": [
    "5.       Elimine las columnas URBANA y SUBURBANA"
   ]
  },
  {
   "cell_type": "code",
   "execution_count": 10,
   "metadata": {},
   "outputs": [],
   "source": [
    "ds.drop(columns=['URBANA', 'SUBURBANA'], inplace=True)"
   ]
  },
  {
   "cell_type": "code",
   "execution_count": 11,
   "metadata": {},
   "outputs": [
    {
     "data": {
      "text/html": [
       "<div>\n",
       "<style scoped>\n",
       "    .dataframe tbody tr th:only-of-type {\n",
       "        vertical-align: middle;\n",
       "    }\n",
       "\n",
       "    .dataframe tbody tr th {\n",
       "        vertical-align: top;\n",
       "    }\n",
       "\n",
       "    .dataframe thead th {\n",
       "        text-align: right;\n",
       "    }\n",
       "</style>\n",
       "<table border=\"1\" class=\"dataframe\">\n",
       "  <thead>\n",
       "    <tr style=\"text-align: right;\">\n",
       "      <th></th>\n",
       "      <th>COBERTURA</th>\n",
       "      <th>ID_ENTIDAD</th>\n",
       "      <th>ID_MUNICIPIO</th>\n",
       "      <th>ANIO</th>\n",
       "      <th>MES</th>\n",
       "      <th>ID_HORA</th>\n",
       "      <th>ID_MINUTO</th>\n",
       "      <th>ID_DIA</th>\n",
       "      <th>DIASEMANA</th>\n",
       "      <th>TIPACCID</th>\n",
       "      <th>...</th>\n",
       "      <th>CICLHERIDO</th>\n",
       "      <th>OTROMUERTO</th>\n",
       "      <th>OTROHERIDO</th>\n",
       "      <th>NEMUERTO</th>\n",
       "      <th>NEHERIDO</th>\n",
       "      <th>CLASACC</th>\n",
       "      <th>ESTATUS</th>\n",
       "      <th>registro_fecha</th>\n",
       "      <th>area</th>\n",
       "      <th>zona</th>\n",
       "    </tr>\n",
       "  </thead>\n",
       "  <tbody>\n",
       "    <tr>\n",
       "      <th>0</th>\n",
       "      <td>Municipal</td>\n",
       "      <td>1</td>\n",
       "      <td>1</td>\n",
       "      <td>2020</td>\n",
       "      <td>1</td>\n",
       "      <td>0</td>\n",
       "      <td>0</td>\n",
       "      <td>1</td>\n",
       "      <td>Miercoles</td>\n",
       "      <td>Colisión con vehículo automotor</td>\n",
       "      <td>...</td>\n",
       "      <td>0</td>\n",
       "      <td>0</td>\n",
       "      <td>0</td>\n",
       "      <td>0</td>\n",
       "      <td>0</td>\n",
       "      <td>Sólo daños</td>\n",
       "      <td>Cifras Definitivas</td>\n",
       "      <td>2020-01-01 00:00:00</td>\n",
       "      <td>Urbana</td>\n",
       "      <td>Accidente en intersección</td>\n",
       "    </tr>\n",
       "    <tr>\n",
       "      <th>1</th>\n",
       "      <td>Municipal</td>\n",
       "      <td>1</td>\n",
       "      <td>1</td>\n",
       "      <td>2020</td>\n",
       "      <td>1</td>\n",
       "      <td>0</td>\n",
       "      <td>0</td>\n",
       "      <td>1</td>\n",
       "      <td>Miercoles</td>\n",
       "      <td>Colisión con objeto fijo</td>\n",
       "      <td>...</td>\n",
       "      <td>0</td>\n",
       "      <td>0</td>\n",
       "      <td>0</td>\n",
       "      <td>0</td>\n",
       "      <td>0</td>\n",
       "      <td>Sólo daños</td>\n",
       "      <td>Cifras Definitivas</td>\n",
       "      <td>2020-01-01 00:00:00</td>\n",
       "      <td>Urbana</td>\n",
       "      <td>Accidente en intersección</td>\n",
       "    </tr>\n",
       "    <tr>\n",
       "      <th>2</th>\n",
       "      <td>Municipal</td>\n",
       "      <td>1</td>\n",
       "      <td>1</td>\n",
       "      <td>2020</td>\n",
       "      <td>1</td>\n",
       "      <td>0</td>\n",
       "      <td>10</td>\n",
       "      <td>1</td>\n",
       "      <td>Miercoles</td>\n",
       "      <td>Colisión con motocicleta</td>\n",
       "      <td>...</td>\n",
       "      <td>0</td>\n",
       "      <td>0</td>\n",
       "      <td>0</td>\n",
       "      <td>0</td>\n",
       "      <td>0</td>\n",
       "      <td>Sólo daños</td>\n",
       "      <td>Cifras Definitivas</td>\n",
       "      <td>2020-01-01 00:10:00</td>\n",
       "      <td>Urbana</td>\n",
       "      <td>Accidente en intersección</td>\n",
       "    </tr>\n",
       "    <tr>\n",
       "      <th>3</th>\n",
       "      <td>Municipal</td>\n",
       "      <td>1</td>\n",
       "      <td>1</td>\n",
       "      <td>2020</td>\n",
       "      <td>1</td>\n",
       "      <td>2</td>\n",
       "      <td>0</td>\n",
       "      <td>1</td>\n",
       "      <td>Miercoles</td>\n",
       "      <td>Colisión con vehículo automotor</td>\n",
       "      <td>...</td>\n",
       "      <td>0</td>\n",
       "      <td>0</td>\n",
       "      <td>0</td>\n",
       "      <td>0</td>\n",
       "      <td>0</td>\n",
       "      <td>Sólo daños</td>\n",
       "      <td>Cifras Definitivas</td>\n",
       "      <td>2020-01-01 02:00:00</td>\n",
       "      <td>Urbana</td>\n",
       "      <td>Accidente en intersección</td>\n",
       "    </tr>\n",
       "    <tr>\n",
       "      <th>4</th>\n",
       "      <td>Municipal</td>\n",
       "      <td>1</td>\n",
       "      <td>1</td>\n",
       "      <td>2020</td>\n",
       "      <td>1</td>\n",
       "      <td>2</td>\n",
       "      <td>10</td>\n",
       "      <td>1</td>\n",
       "      <td>Miercoles</td>\n",
       "      <td>Colisión con vehículo automotor</td>\n",
       "      <td>...</td>\n",
       "      <td>0</td>\n",
       "      <td>0</td>\n",
       "      <td>0</td>\n",
       "      <td>0</td>\n",
       "      <td>0</td>\n",
       "      <td>Sólo daños</td>\n",
       "      <td>Cifras Definitivas</td>\n",
       "      <td>2020-01-01 02:10:00</td>\n",
       "      <td>Urbana</td>\n",
       "      <td>Accidente en intersección</td>\n",
       "    </tr>\n",
       "  </tbody>\n",
       "</table>\n",
       "<p>5 rows × 46 columns</p>\n",
       "</div>"
      ],
      "text/plain": [
       "   COBERTURA  ID_ENTIDAD  ID_MUNICIPIO  ANIO  MES  ID_HORA  ID_MINUTO  ID_DIA  \\\n",
       "0  Municipal           1             1  2020    1        0          0       1   \n",
       "1  Municipal           1             1  2020    1        0          0       1   \n",
       "2  Municipal           1             1  2020    1        0         10       1   \n",
       "3  Municipal           1             1  2020    1        2          0       1   \n",
       "4  Municipal           1             1  2020    1        2         10       1   \n",
       "\n",
       "   DIASEMANA                         TIPACCID  ...  CICLHERIDO  OTROMUERTO  \\\n",
       "0  Miercoles  Colisión con vehículo automotor  ...           0           0   \n",
       "1  Miercoles         Colisión con objeto fijo  ...           0           0   \n",
       "2  Miercoles         Colisión con motocicleta  ...           0           0   \n",
       "3  Miercoles  Colisión con vehículo automotor  ...           0           0   \n",
       "4  Miercoles  Colisión con vehículo automotor  ...           0           0   \n",
       "\n",
       "   OTROHERIDO  NEMUERTO  NEHERIDO     CLASACC             ESTATUS  \\\n",
       "0           0         0         0  Sólo daños  Cifras Definitivas   \n",
       "1           0         0         0  Sólo daños  Cifras Definitivas   \n",
       "2           0         0         0  Sólo daños  Cifras Definitivas   \n",
       "3           0         0         0  Sólo daños  Cifras Definitivas   \n",
       "4           0         0         0  Sólo daños  Cifras Definitivas   \n",
       "\n",
       "       registro_fecha    area                       zona  \n",
       "0 2020-01-01 00:00:00  Urbana  Accidente en intersección  \n",
       "1 2020-01-01 00:00:00  Urbana  Accidente en intersección  \n",
       "2 2020-01-01 00:10:00  Urbana  Accidente en intersección  \n",
       "3 2020-01-01 02:00:00  Urbana  Accidente en intersección  \n",
       "4 2020-01-01 02:10:00  Urbana  Accidente en intersección  \n",
       "\n",
       "[5 rows x 46 columns]"
      ]
     },
     "execution_count": 11,
     "metadata": {},
     "output_type": "execute_result"
    }
   ],
   "source": [
    "ds.head()"
   ]
  },
  {
   "cell_type": "markdown",
   "metadata": {},
   "source": [
    "6.       Determine cual municipio de cada estado tuvo más meses sin accidentes"
   ]
  },
  {
   "cell_type": "code",
   "execution_count": 12,
   "metadata": {},
   "outputs": [
    {
     "name": "stdout",
     "output_type": "stream",
     "text": [
      "      ID_ENTIDAD  ID_MUNICIPIO  count\n",
      "3              1             9     17\n",
      "5              3             2      1\n",
      "8              4             7     21\n",
      "12             5             5     24\n",
      "29             6             6      9\n",
      "30             7             1     24\n",
      "154            8            25     24\n",
      "176           10            20     24\n",
      "184           11             6     24\n",
      "204           12            16     24\n",
      "261           13             3     24\n",
      "339           14             3     24\n",
      "433           16             2     24\n",
      "510           17            34      5\n",
      "524           18            16     23\n",
      "528           19             3     24\n",
      "552           20             1     24\n",
      "1110          21             1     24\n",
      "1321          22            13     21\n",
      "1324          24             1     24\n",
      "1372          25             5      5\n",
      "1377          26             1     24\n",
      "1429          27            11     17\n",
      "1438          28             6     24\n",
      "1503          29            46     24\n",
      "1522          30             6     24\n",
      "1734          31            73     24\n",
      "1747          32            13     24\n"
     ]
    }
   ],
   "source": [
    "\n",
    "# Filtrar los datos para incluir solo las filas donde ocurrieron accidentes con \"certificado cero\"\n",
    "# se agrupa por entidad y municipio\n",
    "cert_cero = ds[ds['CLASACC'] == 'Certificado cero'].groupby(['ID_ENTIDAD', 'ID_MUNICIPIO']).size().reset_index(name='count')\n",
    "\n",
    "\n",
    "# Para cada estado, encontrar el municipio con el mayor número de meses sin accidentes\n",
    "idx = cert_cero.groupby('ID_ENTIDAD')['count'].idxmax()\n",
    "municipio_max_meses_sin_accidentes_por_estado = cert_cero.loc[idx]\n",
    "\n",
    "# Imprimir los resultados\n",
    "print(municipio_max_meses_sin_accidentes_por_estado)\n"
   ]
  },
  {
   "cell_type": "markdown",
   "metadata": {},
   "source": [
    "7.       Resuma los accidentes del último año por tipo y que porcentaje representan"
   ]
  },
  {
   "cell_type": "code",
   "execution_count": 13,
   "metadata": {},
   "outputs": [],
   "source": [
    "#accidemtes del 2022\n",
    "ult_ano = ds[ds['ANIO'] == 2022]\n",
    "\n",
    "# Agrupar los datos por tipo de accidente\n",
    "resumen_accidentes = ult_ano.groupby('TIPACCID').size().reset_index(name='count')\n",
    "\n",
    "# Calcular el total de accidentes\n",
    "total_accidentes = resumen_accidentes['count'].sum()\n",
    "\n",
    "# Calcular el porcentaje de cada tipo\n",
    "resumen_accidentes['porcentaje'] = (resumen_accidentes['count'] / total_accidentes) * 100"
   ]
  },
  {
   "cell_type": "code",
   "execution_count": 14,
   "metadata": {},
   "outputs": [
    {
     "name": "stdout",
     "output_type": "stream",
     "text": [
      "                                 TIPACCID   count  porcentaje\n",
      "0                       Caída de pasajero    1784    0.454279\n",
      "1                        Certificado cero   15479    3.941585\n",
      "2                     Colisión con animal    1022    0.260243\n",
      "3                   Colisión con ciclista    4048    1.030786\n",
      "4                Colisión con ferrocarril     268    0.068244\n",
      "5                Colisión con motocicleta   53629   13.656133\n",
      "6                Colisión con objeto fijo   47033   11.976522\n",
      "7   Colisión con peatón (atropellamiento)   11066    2.817855\n",
      "8         Colisión con vehículo automotor  229940   58.552112\n",
      "9                                Incendio     348    0.088615\n",
      "10                                   Otro    6325    1.610603\n",
      "11                      Salida del camino   10857    2.764635\n",
      "12                              Volcadura   10911    2.778386\n",
      "total de accidentes en el año: 392710\n"
     ]
    }
   ],
   "source": [
    "print(resumen_accidentes)\n",
    "print('total de accidentes en el año: ' + str(total_accidentes))"
   ]
  },
  {
   "cell_type": "markdown",
   "metadata": {},
   "source": [
    "8.       Obtenga la cantidad de muertos y lesionados de los últimos 3 años"
   ]
  },
  {
   "cell_type": "code",
   "execution_count": 15,
   "metadata": {},
   "outputs": [
    {
     "name": "stdout",
     "output_type": "stream",
     "text": [
      "Cantidad de muertos en los últimos 3 años: 13408\n",
      "Cantidad de heridos en los últimos 3 años: 245902\n"
     ]
    }
   ],
   "source": [
    "\n",
    "# accidentes de los últimos 3 años\n",
    "accidentes = ds[ds['ANIO'].isin([2020, 2021, 2022])]\n",
    "accidentes[['CONDMUERTO', 'PASAMUERTO', 'PEATMUERTO', 'CICLMUERTO', 'OTROMUERTO', 'NEMUERTO', \n",
    "            'CONDHERIDO', 'PASAHERIDO', 'PEATHERIDO', 'CICLHERIDO', 'OTROHERIDO', 'NEHERIDO']] = \\\n",
    "accidentes[['CONDMUERTO', 'PASAMUERTO', 'PEATMUERTO', 'CICLMUERTO', 'OTROMUERTO', 'NEMUERTO', \n",
    "            'CONDHERIDO', 'PASAHERIDO', 'PEATHERIDO', 'CICLHERIDO', 'OTROHERIDO', 'NEHERIDO']].apply(pd.to_numeric, errors='coerce')\n",
    "\n",
    "\n",
    "# Sumar la cantidad de muertos y lesionados \n",
    "cantidad_muertos = (accidentes['CONDMUERTO'].sum() + \n",
    "                   accidentes['PASAMUERTO'].sum() + \n",
    "                   accidentes['PEATMUERTO'].sum() + \n",
    "                   accidentes['CICLMUERTO'].sum() + \n",
    "                   accidentes['OTROMUERTO'].sum() +\n",
    "                   accidentes['NEMUERTO'].sum())\n",
    "cantidad_heridos = (accidentes['CONDHERIDO'].sum() + \n",
    "                       accidentes['PASAHERIDO'].sum() + \n",
    "                       accidentes['PEATHERIDO'].sum() + \n",
    "                       accidentes['CICLHERIDO'].sum() + \n",
    "                       accidentes['OTROHERIDO'].sum() +\n",
    "                       accidentes['NEHERIDO'].sum())\n",
    "\n",
    "\n",
    "print(\"Cantidad de muertos en los últimos 3 años:\", str(cantidad_muertos))\n",
    "print(\"Cantidad de heridos en los últimos 3 años:\", str(cantidad_heridos))\n"
   ]
  },
  {
   "cell_type": "markdown",
   "metadata": {},
   "source": [
    "9.       ¿Cómo se compara el número de accidentes de cada año contra el anterior? ¿En qué porcentaje varió?"
   ]
  },
  {
   "cell_type": "code",
   "execution_count": 16,
   "metadata": {},
   "outputs": [
    {
     "name": "stdout",
     "output_type": "stream",
     "text": [
      "Variación en porcentaje de accidentes entre cada año y el anterior:\n",
      "ANIO\n",
      "2020          NaN\n",
      "2021    12.032536\n",
      "2022    10.214277\n",
      "dtype: float64\n"
     ]
    }
   ],
   "source": [
    "acc_por_ano = ds.groupby('ANIO').size()\n",
    "compare = acc_por_ano.pct_change() * 100\n",
    "\n",
    "print(\"Variación en porcentaje de accidentes entre cada año y el anterior:\")\n",
    "print(compare)"
   ]
  },
  {
   "cell_type": "markdown",
   "metadata": {},
   "source": [
    "10. Seleccione una o dos características y haga una gráfica de cada una de las siguientes"
   ]
  },
  {
   "cell_type": "code",
   "execution_count": 17,
   "metadata": {},
   "outputs": [
    {
     "data": {
      "image/png": "[encoded data removed]",
      "text/plain": [
       "<Figure size 800x600 with 1 Axes>"
      ]
     },
     "metadata": {},
     "output_type": "display_data"
    }
   ],
   "source": [
    "# Histograma\n",
    "# Accidentes por dia de la semana\n",
    "\n",
    "import matplotlib.pyplot as plt\n",
    "import seaborn as sns\n",
    "\n",
    "plt.figure(figsize=(8, 6))\n",
    "sns.histplot(ds['DIASEMANA'], bins=7, kde=False, color='skyblue')\n",
    "plt.title('Distribución de accidentes por día de la semana')\n",
    "plt.xlabel('Día de la semana')\n",
    "plt.ylabel('Cantidad de accidentes')\n",
    "plt.show()"
   ]
  },
  {
   "cell_type": "code",
   "execution_count": 21,
   "metadata": {},
   "outputs": [
    {
     "data": {
      "image/png": "[encoded data removed]",
      "text/plain": [
       "<Figure size 800x600 with 1 Axes>"
      ]
     },
     "metadata": {},
     "output_type": "display_data"
    }
   ],
   "source": [
    "# Gráfico de dispersión entre la clase del accidente y peatones heridos\n",
    "\n",
    "plt.figure(figsize=(8, 6))\n",
    "sns.scatterplot(x='CLASACC', y='PEATHERIDO', data=ds, color='red')\n",
    "plt.title('Dispersión de accidentes vs peatones heridos')\n",
    "plt.xlabel('Clase de accidente')\n",
    "plt.ylabel('Peatones heridos')\n",
    "plt.show()"
   ]
  },
  {
   "cell_type": "code",
   "execution_count": 20,
   "metadata": {},
   "outputs": [
    {
     "data": {
      "image/png": "[encoded data removed]",
      "text/plain": [
       "<Figure size 800x600 with 1 Axes>"
      ]
     },
     "metadata": {},
     "output_type": "display_data"
    }
   ],
   "source": [
    "# Gráfico de línea de accidentes fatales por mes\n",
    "\n",
    "plt.figure(figsize=(8, 6))\n",
    "sns.lineplot(x='MES', y='PEATMUERTO', data=ds, marker='o')\n",
    "plt.title('Accidentes fatales por mes')\n",
    "plt.xlabel('Mes')\n",
    "plt.ylabel('Número de peatones muertos')\n",
    "plt.show()"
   ]
  }
 ],
 "metadata": {
  "kernelspec": {
   "display_name": "Python 3",
   "language": "python",
   "name": "python3"
  },
  "language_info": {
   "codemirror_mode": {
    "name": "ipython",
    "version": 3
   },
   "file_extension": ".py",
   "mimetype": "text/x-python",
   "name": "python",
   "nbconvert_exporter": "python",
   "pygments_lexer": "ipython3",
   "version": "3.10.13"
  }
 },
 "nbformat": 4,
 "nbformat_minor": 2
}
